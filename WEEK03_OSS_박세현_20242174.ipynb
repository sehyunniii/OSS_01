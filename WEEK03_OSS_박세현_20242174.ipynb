{
  "cells": [
    {
      "cell_type": "code",
      "execution_count": 1,
      "metadata": {
        "id": "_EqQevyh7cy-"
      },
      "outputs": [
        {
          "name": "stdout",
          "output_type": "stream",
          "text": [
            "박세현\n",
            "20242174\n"
          ]
        }
      ],
      "source": [
        "# 본인의 이름, 학번을 작성하여 실행하세요.\n",
        "print(\"박세현\")\n",
        "print(\"20242174\")"
      ]
    },
    {
      "cell_type": "markdown",
      "metadata": {
        "id": "m1FrI_-670e1"
      },
      "source": [
        "## 이후 강의 PDF 예제 내용을 작성하여 실행하세요."
      ]
    },
    {
      "cell_type": "code",
      "execution_count": 2,
      "metadata": {
        "id": "DK8jS1KQ7z37"
      },
      "outputs": [
        {
          "name": "stdout",
          "output_type": "stream",
          "text": [
            "Value for 3\n",
            "Value for 3\n"
          ]
        }
      ],
      "source": [
        "#예제 1\n",
        "\n",
        "class MyCollection:\n",
        "    def __getitem__(self,key):\n",
        "        return f\"Value for {key}\"\n",
        "    \n",
        "collection = MyCollection()\n",
        "print(collection.__getitem__(3))\n",
        "print(collection[3])\n",
        "\n"
      ]
    },
    {
      "cell_type": "code",
      "execution_count": 3,
      "metadata": {},
      "outputs": [],
      "source": [
        "#예제2\n",
        "\n",
        "import collections\n",
        "Card = collections.namedtuple('Card', ['rank', 'suit'])\n",
        "\n",
        "class FrenchDeck:\n",
        "    ranks = [str(n) for n in range(2,11)] + list('JQKA')\n",
        "    suits = 'spades diamonds clubs hearts'.split()\n",
        "\n",
        "    def __init__(self):\n",
        "        self._cards = [Card(rank, suit) for suit in self.suits\n",
        "                       for rank in self.ranks]\n",
        "        \n",
        "    def __len__(self):\n",
        "        return len(self._cards)\n",
        "    \n",
        "    def __getitem__(self, position):\n",
        "        return self._cards[position]\n",
        " \n",
        "  \n",
        "\n"
      ]
    },
    {
      "cell_type": "code",
      "execution_count": 5,
      "metadata": {},
      "outputs": [
        {
          "data": {
            "text/plain": [
              "Card(rank='7', suit='diamonds')"
            ]
          },
          "execution_count": 5,
          "metadata": {},
          "output_type": "execute_result"
        }
      ],
      "source": [
        "   #예제3\n",
        "\n",
        "beer_card = Card('7','diamonds')\n",
        "beer_card\n"
      ]
    },
    {
      "cell_type": "code",
      "execution_count": 6,
      "metadata": {},
      "outputs": [
        {
          "name": "stdout",
          "output_type": "stream",
          "text": [
            "Ranks: ['2', '3', '4', '5', '6', '7', '8', '9', '10', 'J', 'Q', 'K', 'A']\n",
            "len: 52\n"
          ]
        }
      ],
      "source": [
        "#예제4\n",
        "deck = FrenchDeck()\n",
        "print(f\"Ranks: {deck.ranks}\")\n",
        "print(f\"len: {len(deck)}\")"
      ]
    },
    {
      "cell_type": "code",
      "execution_count": 7,
      "metadata": {},
      "outputs": [
        {
          "name": "stdout",
          "output_type": "stream",
          "text": [
            "Card(rank='2', suit='spades')\n",
            "Card(rank='A', suit='hearts')\n"
          ]
        }
      ],
      "source": [
        "#예제5\n",
        "print(deck[0])\n",
        "print(deck[-1])\n"
      ]
    },
    {
      "cell_type": "code",
      "execution_count": 8,
      "metadata": {},
      "outputs": [
        {
          "name": "stdout",
          "output_type": "stream",
          "text": [
            "Card(rank='8', suit='spades')\n",
            "Card(rank='Q', suit='hearts')\n",
            "Card(rank='A', suit='spades')\n"
          ]
        }
      ],
      "source": [
        "#예제6\n",
        "from random import choice\n",
        "print(choice(deck))\n",
        "print(choice(deck))\n",
        "print(choice(deck))"
      ]
    },
    {
      "cell_type": "code",
      "execution_count": 9,
      "metadata": {},
      "outputs": [
        {
          "data": {
            "text/plain": [
              "[Card(rank='2', suit='spades'),\n",
              " Card(rank='3', suit='spades'),\n",
              " Card(rank='4', suit='spades')]"
            ]
          },
          "execution_count": 9,
          "metadata": {},
          "output_type": "execute_result"
        }
      ],
      "source": [
        "#예제7\n",
        "deck[:3]"
      ]
    },
    {
      "cell_type": "code",
      "execution_count": 10,
      "metadata": {},
      "outputs": [
        {
          "data": {
            "text/plain": [
              "[Card(rank='A', suit='spades'),\n",
              " Card(rank='A', suit='diamonds'),\n",
              " Card(rank='A', suit='clubs'),\n",
              " Card(rank='A', suit='hearts')]"
            ]
          },
          "execution_count": 10,
          "metadata": {},
          "output_type": "execute_result"
        }
      ],
      "source": [
        "#예제8\n",
        "deck[12::13]"
      ]
    },
    {
      "cell_type": "code",
      "execution_count": 11,
      "metadata": {},
      "outputs": [
        {
          "name": "stdout",
          "output_type": "stream",
          "text": [
            "Card(rank='2', suit='spades')\n",
            "Card(rank='3', suit='spades')\n",
            "Card(rank='4', suit='spades')\n",
            "Card(rank='5', suit='spades')\n",
            "Card(rank='6', suit='spades')\n",
            "Card(rank='7', suit='spades')\n",
            "Card(rank='8', suit='spades')\n",
            "Card(rank='9', suit='spades')\n",
            "Card(rank='10', suit='spades')\n",
            "Card(rank='J', suit='spades')\n",
            "Card(rank='Q', suit='spades')\n",
            "Card(rank='K', suit='spades')\n",
            "Card(rank='A', suit='spades')\n",
            "Card(rank='2', suit='diamonds')\n",
            "Card(rank='3', suit='diamonds')\n",
            "Card(rank='4', suit='diamonds')\n",
            "Card(rank='5', suit='diamonds')\n",
            "Card(rank='6', suit='diamonds')\n",
            "Card(rank='7', suit='diamonds')\n",
            "Card(rank='8', suit='diamonds')\n",
            "Card(rank='9', suit='diamonds')\n",
            "Card(rank='10', suit='diamonds')\n",
            "Card(rank='J', suit='diamonds')\n",
            "Card(rank='Q', suit='diamonds')\n",
            "Card(rank='K', suit='diamonds')\n",
            "Card(rank='A', suit='diamonds')\n",
            "Card(rank='2', suit='clubs')\n",
            "Card(rank='3', suit='clubs')\n",
            "Card(rank='4', suit='clubs')\n",
            "Card(rank='5', suit='clubs')\n",
            "Card(rank='6', suit='clubs')\n",
            "Card(rank='7', suit='clubs')\n",
            "Card(rank='8', suit='clubs')\n",
            "Card(rank='9', suit='clubs')\n",
            "Card(rank='10', suit='clubs')\n",
            "Card(rank='J', suit='clubs')\n",
            "Card(rank='Q', suit='clubs')\n",
            "Card(rank='K', suit='clubs')\n",
            "Card(rank='A', suit='clubs')\n",
            "Card(rank='2', suit='hearts')\n",
            "Card(rank='3', suit='hearts')\n",
            "Card(rank='4', suit='hearts')\n",
            "Card(rank='5', suit='hearts')\n",
            "Card(rank='6', suit='hearts')\n",
            "Card(rank='7', suit='hearts')\n",
            "Card(rank='8', suit='hearts')\n",
            "Card(rank='9', suit='hearts')\n",
            "Card(rank='10', suit='hearts')\n",
            "Card(rank='J', suit='hearts')\n",
            "Card(rank='Q', suit='hearts')\n",
            "Card(rank='K', suit='hearts')\n",
            "Card(rank='A', suit='hearts')\n"
          ]
        }
      ],
      "source": [
        "#예제9\n",
        "for card in deck:\n",
        "    print(card)"
      ]
    },
    {
      "cell_type": "code",
      "execution_count": 12,
      "metadata": {},
      "outputs": [
        {
          "name": "stdout",
          "output_type": "stream",
          "text": [
            "Card(rank='A', suit='hearts')\n",
            "Card(rank='K', suit='hearts')\n",
            "Card(rank='Q', suit='hearts')\n",
            "Card(rank='J', suit='hearts')\n",
            "Card(rank='10', suit='hearts')\n",
            "Card(rank='9', suit='hearts')\n",
            "Card(rank='8', suit='hearts')\n",
            "Card(rank='7', suit='hearts')\n",
            "Card(rank='6', suit='hearts')\n",
            "Card(rank='5', suit='hearts')\n",
            "Card(rank='4', suit='hearts')\n",
            "Card(rank='3', suit='hearts')\n",
            "Card(rank='2', suit='hearts')\n",
            "Card(rank='A', suit='clubs')\n",
            "Card(rank='K', suit='clubs')\n",
            "Card(rank='Q', suit='clubs')\n",
            "Card(rank='J', suit='clubs')\n",
            "Card(rank='10', suit='clubs')\n",
            "Card(rank='9', suit='clubs')\n",
            "Card(rank='8', suit='clubs')\n",
            "Card(rank='7', suit='clubs')\n",
            "Card(rank='6', suit='clubs')\n",
            "Card(rank='5', suit='clubs')\n",
            "Card(rank='4', suit='clubs')\n",
            "Card(rank='3', suit='clubs')\n",
            "Card(rank='2', suit='clubs')\n",
            "Card(rank='A', suit='diamonds')\n",
            "Card(rank='K', suit='diamonds')\n",
            "Card(rank='Q', suit='diamonds')\n",
            "Card(rank='J', suit='diamonds')\n",
            "Card(rank='10', suit='diamonds')\n",
            "Card(rank='9', suit='diamonds')\n",
            "Card(rank='8', suit='diamonds')\n",
            "Card(rank='7', suit='diamonds')\n",
            "Card(rank='6', suit='diamonds')\n",
            "Card(rank='5', suit='diamonds')\n",
            "Card(rank='4', suit='diamonds')\n",
            "Card(rank='3', suit='diamonds')\n",
            "Card(rank='2', suit='diamonds')\n",
            "Card(rank='A', suit='spades')\n",
            "Card(rank='K', suit='spades')\n",
            "Card(rank='Q', suit='spades')\n",
            "Card(rank='J', suit='spades')\n",
            "Card(rank='10', suit='spades')\n",
            "Card(rank='9', suit='spades')\n",
            "Card(rank='8', suit='spades')\n",
            "Card(rank='7', suit='spades')\n",
            "Card(rank='6', suit='spades')\n",
            "Card(rank='5', suit='spades')\n",
            "Card(rank='4', suit='spades')\n",
            "Card(rank='3', suit='spades')\n",
            "Card(rank='2', suit='spades')\n"
          ]
        }
      ],
      "source": [
        "#예제 10\n",
        "for card in reversed(deck):\n",
        "    print(card)"
      ]
    },
    {
      "cell_type": "code",
      "execution_count": 13,
      "metadata": {},
      "outputs": [
        {
          "data": {
            "text/plain": [
              "21"
            ]
          },
          "execution_count": 13,
          "metadata": {},
          "output_type": "execute_result"
        }
      ],
      "source": [
        "#예제11\n",
        "\n",
        "suit_values = dict(spades=3, hearts=2, diamonds=1, clubs=0)\n",
        "\n",
        "def spades_high(card):\n",
        "    rank_value = FrenchDeck.ranks.index(card.rank)\n",
        "    return rank_value*len(suit_values) + suit_values[card.suit]\n",
        "\n",
        "spades_high(beer_card)\n",
        "\n"
      ]
    },
    {
      "cell_type": "code",
      "execution_count": 15,
      "metadata": {},
      "outputs": [
        {
          "name": "stdout",
          "output_type": "stream",
          "text": [
            "The rank of Card(rank='2', suit='clubs') is 0.\n",
            "The rank of Card(rank='2', suit='diamonds') is 1.\n",
            "The rank of Card(rank='2', suit='hearts') is 2.\n",
            "The rank of Card(rank='2', suit='spades') is 3.\n",
            "The rank of Card(rank='3', suit='clubs') is 4.\n",
            "The rank of Card(rank='3', suit='diamonds') is 5.\n",
            "The rank of Card(rank='3', suit='hearts') is 6.\n",
            "The rank of Card(rank='3', suit='spades') is 7.\n",
            "The rank of Card(rank='4', suit='clubs') is 8.\n",
            "The rank of Card(rank='4', suit='diamonds') is 9.\n",
            "The rank of Card(rank='4', suit='hearts') is 10.\n",
            "The rank of Card(rank='4', suit='spades') is 11.\n",
            "The rank of Card(rank='5', suit='clubs') is 12.\n",
            "The rank of Card(rank='5', suit='diamonds') is 13.\n",
            "The rank of Card(rank='5', suit='hearts') is 14.\n",
            "The rank of Card(rank='5', suit='spades') is 15.\n",
            "The rank of Card(rank='6', suit='clubs') is 16.\n",
            "The rank of Card(rank='6', suit='diamonds') is 17.\n",
            "The rank of Card(rank='6', suit='hearts') is 18.\n",
            "The rank of Card(rank='6', suit='spades') is 19.\n",
            "The rank of Card(rank='7', suit='clubs') is 20.\n",
            "The rank of Card(rank='7', suit='diamonds') is 21.\n",
            "The rank of Card(rank='7', suit='hearts') is 22.\n",
            "The rank of Card(rank='7', suit='spades') is 23.\n",
            "The rank of Card(rank='8', suit='clubs') is 24.\n",
            "The rank of Card(rank='8', suit='diamonds') is 25.\n",
            "The rank of Card(rank='8', suit='hearts') is 26.\n",
            "The rank of Card(rank='8', suit='spades') is 27.\n",
            "The rank of Card(rank='9', suit='clubs') is 28.\n",
            "The rank of Card(rank='9', suit='diamonds') is 29.\n",
            "The rank of Card(rank='9', suit='hearts') is 30.\n",
            "The rank of Card(rank='9', suit='spades') is 31.\n",
            "The rank of Card(rank='10', suit='clubs') is 32.\n",
            "The rank of Card(rank='10', suit='diamonds') is 33.\n",
            "The rank of Card(rank='10', suit='hearts') is 34.\n",
            "The rank of Card(rank='10', suit='spades') is 35.\n",
            "The rank of Card(rank='J', suit='clubs') is 36.\n",
            "The rank of Card(rank='J', suit='diamonds') is 37.\n",
            "The rank of Card(rank='J', suit='hearts') is 38.\n",
            "The rank of Card(rank='J', suit='spades') is 39.\n",
            "The rank of Card(rank='Q', suit='clubs') is 40.\n",
            "The rank of Card(rank='Q', suit='diamonds') is 41.\n",
            "The rank of Card(rank='Q', suit='hearts') is 42.\n",
            "The rank of Card(rank='Q', suit='spades') is 43.\n",
            "The rank of Card(rank='K', suit='clubs') is 44.\n",
            "The rank of Card(rank='K', suit='diamonds') is 45.\n",
            "The rank of Card(rank='K', suit='hearts') is 46.\n",
            "The rank of Card(rank='K', suit='spades') is 47.\n",
            "The rank of Card(rank='A', suit='clubs') is 48.\n",
            "The rank of Card(rank='A', suit='diamonds') is 49.\n",
            "The rank of Card(rank='A', suit='hearts') is 50.\n",
            "The rank of Card(rank='A', suit='spades') is 51.\n"
          ]
        }
      ],
      "source": [
        "for card in sorted(deck, key = spades_high):\n",
        "    print('The rank of {} is {}.'.format(card, spades_high(card)))"
      ]
    },
    {
      "cell_type": "code",
      "execution_count": 36,
      "metadata": {},
      "outputs": [],
      "source": [
        "#예제12\n",
        "\n",
        "from math import hypot\n",
        "\n",
        "class Vector:\n",
        "    def __init__(self, x=0, y=0):\n",
        "        self.x = x\n",
        "        self.y = y\n",
        "\n",
        "    def __repr__(self):\n",
        "        return 'Vector(%r, %r)' % (self.x, self.y)\n",
        "\n",
        "    def __abs__(self):\n",
        "        return hypot(self.x, self.y)\n",
        "\n",
        "    def __bool__(self):\n",
        "        return bool(abs(self))\n",
        "\n",
        "    def __add__(self, other):\n",
        "        x = self.x + other.x\n",
        "        y = self.y + other.y\n",
        "        return Vector(x, y)\n",
        "\n",
        "    def __mul__(self,scalar):\n",
        "        return Vector(self.x * scalar, self.y * scalar)\n",
        "\n",
        "\n"
      ]
    },
    {
      "cell_type": "code",
      "execution_count": 29,
      "metadata": {},
      "outputs": [
        {
          "data": {
            "text/plain": [
              "5.0"
            ]
          },
          "execution_count": 29,
          "metadata": {},
          "output_type": "execute_result"
        }
      ],
      "source": [
        "\n",
        "\n",
        "v = Vector(3,4)\n",
        "abs(v)\n"
      ]
    },
    {
      "cell_type": "code",
      "execution_count": 30,
      "metadata": {},
      "outputs": [
        {
          "data": {
            "text/plain": [
              "15.0"
            ]
          },
          "execution_count": 30,
          "metadata": {},
          "output_type": "execute_result"
        }
      ],
      "source": [
        "v * 3\n",
        "abs(v *3)"
      ]
    },
    {
      "cell_type": "code",
      "execution_count": 38,
      "metadata": {},
      "outputs": [
        {
          "data": {
            "text/plain": [
              "Vector(4, 5)"
            ]
          },
          "execution_count": 38,
          "metadata": {},
          "output_type": "execute_result"
        }
      ],
      "source": [
        "v1 = Vector(2, 4)\n",
        "v2 = Vector(2, 1)\n",
        "v1 + v2\n",
        "\n",
        "\n"
      ]
    },
    {
      "cell_type": "code",
      "execution_count": 40,
      "metadata": {},
      "outputs": [
        {
          "data": {
            "text/plain": [
              "Vector(3,4)"
            ]
          },
          "execution_count": 40,
          "metadata": {},
          "output_type": "execute_result"
        }
      ],
      "source": [
        "#예제 13\n",
        "\n",
        "v"
      ]
    }
  ],
  "metadata": {
    "colab": {
      "provenance": []
    },
    "kernelspec": {
      "display_name": "base",
      "language": "python",
      "name": "python3"
    },
    "language_info": {
      "codemirror_mode": {
        "name": "ipython",
        "version": 3
      },
      "file_extension": ".py",
      "mimetype": "text/x-python",
      "name": "python",
      "nbconvert_exporter": "python",
      "pygments_lexer": "ipython3",
      "version": "3.13.2"
    }
  },
  "nbformat": 4,
  "nbformat_minor": 0
}
