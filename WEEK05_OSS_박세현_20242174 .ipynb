{
  "cells": [
    {
      "cell_type": "code",
      "execution_count": 3,
      "metadata": {
        "colab": {
          "base_uri": "https://localhost:8080/"
        },
        "id": "_EqQevyh7cy-",
        "outputId": "93f29b0e-2417-4a5d-c174-4edef20475d8"
      },
      "outputs": [
        {
          "name": "stdout",
          "output_type": "stream",
          "text": [
            "박세현\n",
            "20242174\n"
          ]
        }
      ],
      "source": [
        "# 본인의 이름, 학번을 작성하여 실행하세요.\n",
        "print(\"박세현\")\n",
        "print(\"20242174\")"
      ]
    },
    {
      "cell_type": "markdown",
      "metadata": {
        "id": "m1FrI_-670e1"
      },
      "source": [
        "## 이후 강의 PDF 예제 내용을 작성하여 실행하세요."
      ]
    },
    {
      "cell_type": "code",
      "execution_count": null,
      "metadata": {},
      "outputs": [],
      "source": []
    },
    {
      "cell_type": "code",
      "execution_count": null,
      "metadata": {
        "colab": {
          "base_uri": "https://localhost:8080/"
        },
        "id": "DK8jS1KQ7z37",
        "outputId": "7b6261ad-dc7e-4271-cbc6-10c0f6acce20"
      },
      "outputs": [
        {
          "data": {
            "text/plain": [
              "{'China': 86, 'India': 91, 'United States': 1, 'Brazil': 55, 'Russia': 7}"
            ]
          },
          "execution_count": 4,
          "metadata": {},
          "output_type": "execute_result"
        }
      ],
      "source": [
        "DIAL_CODES = [\n",
        "    (86, 'China'),\n",
        "    (91, 'India'),\n",
        "    (1, 'United States'),\n",
        "    (55, 'Brazil'),\n",
        "    (7,'Russia'),\n",
        "]\n",
        "\n",
        "country_code = {country: code for code, country in DIAL_CODES}\n",
        "country_code\n",
        "\n",
        "\n",
        "\n",
        "\n"
      ]
    },
    {
      "cell_type": "code",
      "execution_count": null,
      "metadata": {
        "colab": {
          "base_uri": "https://localhost:8080/"
        },
        "id": "VLtux7rdLkKv",
        "outputId": "06bb4060-355e-4687-a84d-dc0589e0f133"
      },
      "outputs": [
        {
          "data": {
            "text/plain": [
              "{1: 'UNITED STATES', 55: 'BRAZIL', 7: 'RUSSIA'}"
            ]
          },
          "execution_count": 5,
          "metadata": {},
          "output_type": "execute_result"
        }
      ],
      "source": [
        "{code: country.upper() for country, code in country_code.items() if code<66}\n"
      ]
    },
    {
      "cell_type": "code",
      "execution_count": null,
      "metadata": {
        "colab": {
          "base_uri": "https://localhost:8080/"
        },
        "id": "HRyoNQ29LkKv",
        "outputId": "b3901fd6-a87d-4e28-d480-def7a41d5abe"
      },
      "outputs": [
        {
          "name": "stdout",
          "output_type": "stream",
          "text": [
            "1 [(3, 447)]\n",
            "1397 [(1, 39)]\n",
            "1418 [(3, 118)]\n",
            "1422 [(3, 441)]\n",
            "1439 [(7, 6)]\n",
            "1450 [(1, 55), (7, 123)]\n",
            "15 [(1, 32)]\n",
            "2 [(5, 168)]\n",
            "3 [(5, 171)]\n",
            "30 [(1, 46)]\n",
            "4 [(5, 479)]\n",
            "5 [(5, 482)]\n",
            "6 [(7, 39)]\n",
            "a [(3, 184), (5, 339)]\n",
            "abdicated [(3, 224)]\n",
            "absolute [(3, 359)]\n",
            "acted [(7, 85)]\n",
            "advancements [(5, 185)]\n",
            "alphabet [(1, 316), (5, 158)]\n",
            "also [(5, 431)]\n",
            "amendments [(5, 88)]\n",
            "and [(1, 260), (3, 94), (3, 378), (3, 398), (5, 36), (5, 64), (5, 131), (5, 209), (5, 225), (5, 323), (7, 42)]\n",
            "areas [(5, 421)]\n",
            "as [(1, 107), (1, 211), (1, 278), (3, 167), (7, 91)]\n",
            "became [(7, 15)]\n",
            "brother [(3, 151)]\n",
            "campaigns [(5, 300)]\n",
            "Chungnyeong [(3, 31)]\n",
            "commonly [(1, 92)]\n",
            "Confucian [(5, 26), (5, 44)]\n",
            "conquered [(5, 411)]\n",
            "continued [(3, 402)]\n",
            "created [(5, 123)]\n",
            "crown [(3, 170)]\n",
            "Crown [(7, 62)]\n",
            "death [(3, 432)]\n",
            "died [(7, 109)]\n",
            "dynasty [(1, 178)]\n",
            "early [(3, 271)]\n",
            "economic [(5, 262)]\n",
            "eldest [(3, 144), (7, 50)]\n",
            "Emeritus [(3, 307)]\n",
            "enacted [(5, 68)]\n",
            "encouraged [(5, 174)]\n",
            "establishing [(5, 373)]\n",
            "executive [(3, 368)]\n",
            "favor [(3, 257)]\n",
            "few [(3, 186)]\n",
            "fourth [(1, 149)]\n",
            "From [(7, 1)]\n",
            "govern [(3, 415)]\n",
            "Grand [(3, 18)]\n",
            "Great [(1, 121)]\n",
            "greatest [(1, 225)]\n",
            "growth [(5, 271)]\n",
            "Hangul [(1, 297)]\n",
            "Hanja [(1, 21)]\n",
            "He [(1, 196), (5, 109), (5, 279), (5, 428)]\n",
            "he [(3, 57), (7, 12)]\n",
            "his [(3, 140), (3, 428), (7, 46)]\n",
            "history [(1, 251)]\n",
            "Hyang [(7, 78)]\n",
            "ill [(7, 35)]\n",
            "implemented [(5, 327)]\n",
            "in [(1, 241), (3, 245), (3, 438), (5, 198), (5, 398)]\n",
            "In [(3, 115), (3, 264)]\n",
            "increasingly [(7, 22)]\n",
            "Initially [(3, 1)]\n",
            "introduced [(5, 229)]\n",
            "inventor [(1, 285)]\n",
            "is [(1, 199), (1, 264)]\n",
            "island [(5, 471)]\n",
            "Je [(3, 163)]\n",
            "Joseon [(1, 171)]\n",
            "King [(3, 81), (3, 302)]\n",
            "known [(1, 101)]\n",
            "Korea [(1, 189)]\n",
            "Korean [(1, 9), (1, 244), (1, 332), (5, 19), (5, 151)]\n",
            "language [(1, 339)]\n",
            "later [(3, 197)]\n",
            "launched [(5, 282)]\n",
            "legal [(5, 82)]\n",
            "major [(5, 76)]\n",
            "March [(1, 49), (7, 117)]\n",
            "May [(1, 35)]\n",
            "measures [(5, 240)]\n",
            "military [(3, 382), (5, 291)]\n",
            "monarch [(1, 156)]\n",
            "months [(3, 190)]\n",
            "most [(3, 346)]\n",
            "name [(1, 71)]\n",
            "native [(1, 309)]\n",
            "Neo [(5, 40)]\n",
            "newly [(5, 405)]\n",
            "north [(5, 317)]\n",
            "notably [(3, 351)]\n",
            "Occupation [(5, 448)]\n",
            "of [(1, 164), (1, 186), (1, 218), (1, 294), (1, 325), (3, 78), (3, 283), (5, 459)]\n",
            "on [(7, 114)]\n",
            "one [(1, 214)]\n",
            "ordered [(5, 436)]\n",
            "personal [(1, 62)]\n",
            "personally [(5, 112)]\n",
            "policies [(5, 54)]\n",
            "policy [(5, 352)]\n",
            "power [(3, 391)]\n",
            "powers [(3, 338)]\n",
            "Prince [(3, 24), (7, 68)]\n",
            "prince [(3, 176)]\n",
            "promulgated [(5, 135)]\n",
            "Queen [(3, 98)]\n",
            "regarded [(1, 202)]\n",
            "regent [(7, 94)]\n",
            "reign [(3, 295)]\n",
            "reinforced [(5, 8)]\n",
            "relocation [(5, 341)]\n",
            "remembered [(1, 267)]\n",
            "replaced [(3, 131)]\n",
            "retained [(3, 324)]\n",
            "rulers [(1, 234)]\n",
            "s [(3, 255), (3, 293)]\n",
            "science [(5, 201)]\n",
            "Sejong [(1, 1), (1, 110), (3, 124), (3, 248), (3, 286), (5, 1), (7, 102)]\n",
            "settlements [(5, 386)]\n",
            "son [(3, 74), (7, 57)]\n",
            "stimulate [(5, 252)]\n",
            "Taejong [(3, 86), (3, 204), (3, 316)]\n",
            "technology [(5, 213)]\n",
            "the [(1, 117), (1, 145), (1, 167), (1, 221), (1, 281), (1, 305), (1, 328), (3, 64), (3, 234), (3, 267), (5, 147), (5, 313), (5, 401), (5, 444)]\n",
            "third [(3, 68)]\n",
            "throne [(3, 238)]\n",
            "titled [(3, 11)]\n",
            "To [(1, 79)]\n",
            "to [(3, 412), (5, 249), (5, 310)]\n",
            "Tsushima [(5, 462)]\n",
            "until [(3, 422)]\n",
            "vast [(3, 333)]\n",
            "voluntarily [(3, 212)]\n",
            "was [(1, 141), (3, 60)]\n",
            "Wongyeong [(3, 104)]\n",
            "years [(3, 277)]\n",
            "Yi [(1, 76), (3, 160), (7, 75)]\n",
            "世宗 [(1, 28)]\n",
            "世宗大王 [(1, 134)]\n",
            "徙民政策 [(5, 366)]\n",
            "忠寧大君 [(3, 50)]\n",
            "李祹 [(1, 87)]\n",
            "貢法 [(5, 104)]\n",
            "공법 [(5, 100)]\n",
            "사민정책 [(5, 360)]\n",
            "세종 [(1, 17)]\n",
            "세종대왕 [(1, 128)]\n",
            "이도 [(1, 83)]\n",
            "충녕대군 [(3, 44)]\n"
          ]
        }
      ],
      "source": [
        "import sys, re\n",
        "WORD_RE = re.compile(r'\\w+')\n",
        "index = {}\n",
        "\n",
        "with open(\"sejong.txt\", encoding = 'utf-8') as fp:\n",
        "    for line_no, line in enumerate(fp,1):\n",
        "        for match in WORD_RE.finditer(line):\n",
        "            word = match.group()\n",
        "            column_no = match.start()+1\n",
        "            location = (line_no, column_no)\n",
        "            occurence = index.get(word, [])\n",
        "            occurence.append(location)\n",
        "            index[word] = occurence\n",
        "\n",
        "for word in sorted (index, key = str.upper):\n",
        "    print(word, index[word])\n"
      ]
    },
    {
      "cell_type": "code",
      "execution_count": 1,
      "metadata": {},
      "outputs": [
        {
          "name": "stdout",
          "output_type": "stream",
          "text": [
            "1 [(3, 447)]\n",
            "1397 [(1, 39)]\n",
            "1418 [(3, 118)]\n",
            "1422 [(3, 441)]\n",
            "1439 [(7, 6)]\n",
            "1450 [(1, 55), (7, 123)]\n",
            "15 [(1, 32)]\n",
            "2 [(5, 168)]\n",
            "3 [(5, 171)]\n",
            "30 [(1, 46)]\n",
            "4 [(5, 479)]\n",
            "5 [(5, 482)]\n",
            "6 [(7, 39)]\n",
            "a [(3, 184), (5, 339)]\n",
            "abdicated [(3, 224)]\n",
            "absolute [(3, 359)]\n",
            "acted [(7, 85)]\n",
            "advancements [(5, 185)]\n",
            "alphabet [(1, 316), (5, 158)]\n",
            "also [(5, 431)]\n",
            "amendments [(5, 88)]\n",
            "and [(1, 260), (3, 94), (3, 378), (3, 398), (5, 36), (5, 64), (5, 131), (5, 209), (5, 225), (5, 323), (7, 42)]\n",
            "areas [(5, 421)]\n",
            "as [(1, 107), (1, 211), (1, 278), (3, 167), (7, 91)]\n",
            "became [(7, 15)]\n",
            "brother [(3, 151)]\n",
            "campaigns [(5, 300)]\n",
            "Chungnyeong [(3, 31)]\n",
            "commonly [(1, 92)]\n",
            "Confucian [(5, 26), (5, 44)]\n",
            "conquered [(5, 411)]\n",
            "continued [(3, 402)]\n",
            "created [(5, 123)]\n",
            "crown [(3, 170)]\n",
            "Crown [(7, 62)]\n",
            "death [(3, 432)]\n",
            "died [(7, 109)]\n",
            "dynasty [(1, 178)]\n",
            "early [(3, 271)]\n",
            "economic [(5, 262)]\n",
            "eldest [(3, 144), (7, 50)]\n",
            "Emeritus [(3, 307)]\n",
            "enacted [(5, 68)]\n",
            "encouraged [(5, 174)]\n",
            "establishing [(5, 373)]\n",
            "executive [(3, 368)]\n",
            "favor [(3, 257)]\n",
            "few [(3, 186)]\n",
            "fourth [(1, 149)]\n",
            "From [(7, 1)]\n",
            "govern [(3, 415)]\n",
            "Grand [(3, 18)]\n",
            "Great [(1, 121)]\n",
            "greatest [(1, 225)]\n",
            "growth [(5, 271)]\n",
            "Hangul [(1, 297)]\n",
            "Hanja [(1, 21)]\n",
            "He [(1, 196), (5, 109), (5, 279), (5, 428)]\n",
            "he [(3, 57), (7, 12)]\n",
            "his [(3, 140), (3, 428), (7, 46)]\n",
            "history [(1, 251)]\n",
            "Hyang [(7, 78)]\n",
            "ill [(7, 35)]\n",
            "implemented [(5, 327)]\n",
            "in [(1, 241), (3, 245), (3, 438), (5, 198), (5, 398)]\n",
            "In [(3, 115), (3, 264)]\n",
            "increasingly [(7, 22)]\n",
            "Initially [(3, 1)]\n",
            "introduced [(5, 229)]\n",
            "inventor [(1, 285)]\n",
            "is [(1, 199), (1, 264)]\n",
            "island [(5, 471)]\n",
            "Je [(3, 163)]\n",
            "Joseon [(1, 171)]\n",
            "King [(3, 81), (3, 302)]\n",
            "known [(1, 101)]\n",
            "Korea [(1, 189)]\n",
            "Korean [(1, 9), (1, 244), (1, 332), (5, 19), (5, 151)]\n",
            "language [(1, 339)]\n",
            "later [(3, 197)]\n",
            "launched [(5, 282)]\n",
            "legal [(5, 82)]\n",
            "major [(5, 76)]\n",
            "March [(1, 49), (7, 117)]\n",
            "May [(1, 35)]\n",
            "measures [(5, 240)]\n",
            "military [(3, 382), (5, 291)]\n",
            "monarch [(1, 156)]\n",
            "months [(3, 190)]\n",
            "most [(3, 346)]\n",
            "name [(1, 71)]\n",
            "native [(1, 309)]\n",
            "Neo [(5, 40)]\n",
            "newly [(5, 405)]\n",
            "north [(5, 317)]\n",
            "notably [(3, 351)]\n",
            "Occupation [(5, 448)]\n",
            "of [(1, 164), (1, 186), (1, 218), (1, 294), (1, 325), (3, 78), (3, 283), (5, 459)]\n",
            "on [(7, 114)]\n",
            "one [(1, 214)]\n",
            "ordered [(5, 436)]\n",
            "personal [(1, 62)]\n",
            "personally [(5, 112)]\n",
            "policies [(5, 54)]\n",
            "policy [(5, 352)]\n",
            "power [(3, 391)]\n",
            "powers [(3, 338)]\n",
            "Prince [(3, 24), (7, 68)]\n",
            "prince [(3, 176)]\n",
            "promulgated [(5, 135)]\n",
            "Queen [(3, 98)]\n",
            "regarded [(1, 202)]\n",
            "regent [(7, 94)]\n",
            "reign [(3, 295)]\n",
            "reinforced [(5, 8)]\n",
            "relocation [(5, 341)]\n",
            "remembered [(1, 267)]\n",
            "replaced [(3, 131)]\n",
            "retained [(3, 324)]\n",
            "rulers [(1, 234)]\n",
            "s [(3, 255), (3, 293)]\n",
            "science [(5, 201)]\n",
            "Sejong [(1, 1), (1, 110), (3, 124), (3, 248), (3, 286), (5, 1), (7, 102)]\n",
            "settlements [(5, 386)]\n",
            "son [(3, 74), (7, 57)]\n",
            "stimulate [(5, 252)]\n",
            "Taejong [(3, 86), (3, 204), (3, 316)]\n",
            "technology [(5, 213)]\n",
            "the [(1, 117), (1, 145), (1, 167), (1, 221), (1, 281), (1, 305), (1, 328), (3, 64), (3, 234), (3, 267), (5, 147), (5, 313), (5, 401), (5, 444)]\n",
            "third [(3, 68)]\n",
            "throne [(3, 238)]\n",
            "titled [(3, 11)]\n",
            "To [(1, 79)]\n",
            "to [(3, 412), (5, 249), (5, 310)]\n",
            "Tsushima [(5, 462)]\n",
            "until [(3, 422)]\n",
            "vast [(3, 333)]\n",
            "voluntarily [(3, 212)]\n",
            "was [(1, 141), (3, 60)]\n",
            "Wongyeong [(3, 104)]\n",
            "years [(3, 277)]\n",
            "Yi [(1, 76), (3, 160), (7, 75)]\n",
            "世宗 [(1, 28)]\n",
            "世宗大王 [(1, 134)]\n",
            "徙民政策 [(5, 366)]\n",
            "忠寧大君 [(3, 50)]\n",
            "李祹 [(1, 87)]\n",
            "貢法 [(5, 104)]\n",
            "공법 [(5, 100)]\n",
            "사민정책 [(5, 360)]\n",
            "세종 [(1, 17)]\n",
            "세종대왕 [(1, 128)]\n",
            "이도 [(1, 83)]\n",
            "충녕대군 [(3, 44)]\n"
          ]
        }
      ],
      "source": [
        "import sys, re, collections\n",
        "\n",
        "WORD_RE = re.compile(r'\\w+')\n",
        "\n",
        "index = collections.defaultdict(list)\n",
        "\n",
        "with open(\"sejong.txt\", encoding = 'utf-8') as fp:\n",
        "    for line_no, line in enumerate(fp, 1):\n",
        "        for match in WORD_RE.finditer(line):\n",
        "            word = match.group()\n",
        "            column_no = match.start()+1\n",
        "            location = (line_no,column_no)\n",
        "            index[word].append(location)\n",
        "\n",
        "for word in sorted(index,key=str.upper):\n",
        "    print(word, index[word])"
      ]
    },
    {
      "cell_type": "code",
      "execution_count": 2,
      "metadata": {},
      "outputs": [],
      "source": [
        "class StrKeyDict0(dict):\n",
        "\n",
        "    def __missing__(self, key):\n",
        "        \"\"\"\n",
        "            isinstance 가 없으면 __missing__() 메서드를 재귀적으로 호출\n",
        "        \"\"\"\n",
        "\n",
        "        if isinstance(key, str):\n",
        "            raise KeyError(key)\n",
        "        return self[str(key)]\n",
        "    \n",
        "\n",
        "    def get(self, key, default = None):\n",
        "        \"\"\"\n",
        "        get() 메서드는 self[key] 표기법을 이용, __getitem__()메서드에 위임 \n",
        "        키가 없으면 __missing__() 메서드가 작동할 수 있게 함\n",
        "        \"\"\"\n",
        "        try:\n",
        "            return self[key]\n",
        "        except KeyError:\n",
        "            return default\n",
        "    def __contains__(self, key):\n",
        "        return key in self.keys()or str(key) in self.keys()"
      ]
    },
    {
      "cell_type": "code",
      "execution_count": 3,
      "metadata": {},
      "outputs": [
        {
          "data": {
            "text/plain": [
              "'two'"
            ]
          },
          "execution_count": 3,
          "metadata": {},
          "output_type": "execute_result"
        }
      ],
      "source": [
        "d = StrKeyDict0([('2','two'),('4','four')])\n",
        "\n",
        "d['2']\n"
      ]
    },
    {
      "cell_type": "code",
      "execution_count": 4,
      "metadata": {},
      "outputs": [
        {
          "data": {
            "text/plain": [
              "'four'"
            ]
          },
          "execution_count": 4,
          "metadata": {},
          "output_type": "execute_result"
        }
      ],
      "source": [
        "d[4]"
      ]
    },
    {
      "cell_type": "code",
      "execution_count": 5,
      "metadata": {},
      "outputs": [
        {
          "data": {
            "text/plain": [
              "'two'"
            ]
          },
          "execution_count": 5,
          "metadata": {},
          "output_type": "execute_result"
        }
      ],
      "source": [
        "d.get('2')"
      ]
    },
    {
      "cell_type": "code",
      "execution_count": 6,
      "metadata": {},
      "outputs": [
        {
          "data": {
            "text/plain": [
              "'four'"
            ]
          },
          "execution_count": 6,
          "metadata": {},
          "output_type": "execute_result"
        }
      ],
      "source": [
        "d.get(4)"
      ]
    },
    {
      "cell_type": "code",
      "execution_count": 7,
      "metadata": {},
      "outputs": [
        {
          "data": {
            "text/plain": [
              "'N/A'"
            ]
          },
          "execution_count": 7,
          "metadata": {},
          "output_type": "execute_result"
        }
      ],
      "source": [
        "d.get(1,'N/A')"
      ]
    },
    {
      "cell_type": "code",
      "execution_count": 8,
      "metadata": {},
      "outputs": [
        {
          "data": {
            "text/plain": [
              "True"
            ]
          },
          "execution_count": 8,
          "metadata": {},
          "output_type": "execute_result"
        }
      ],
      "source": [
        "2 in d"
      ]
    },
    {
      "cell_type": "code",
      "execution_count": 9,
      "metadata": {},
      "outputs": [],
      "source": [
        "class StrKeyDict(collections.UserDict):\n",
        "\n",
        "    def __missing__(self,key):\n",
        "        if isinstance(key, str):\n",
        "            raise KeyError(key)\n",
        "        return self[str(key)]\n",
        "    \n",
        "    def __contains__(self, key):\n",
        "        return str(key) in self.data\n",
        "    \n",
        "    def __setitem__(self, key, item):\n",
        "        self.data[str(key)] = item"
      ]
    },
    {
      "cell_type": "code",
      "execution_count": 10,
      "metadata": {},
      "outputs": [
        {
          "data": {
            "text/plain": [
              "mappingproxy({1: 'A'})"
            ]
          },
          "execution_count": 10,
          "metadata": {},
          "output_type": "execute_result"
        }
      ],
      "source": [
        "from types import MappingProxyType\n",
        "d = {1: 'A'}\n",
        "d_proxy = MappingProxyType(d)\n",
        "\n",
        "d_proxy"
      ]
    },
    {
      "cell_type": "code",
      "execution_count": 11,
      "metadata": {},
      "outputs": [
        {
          "data": {
            "text/plain": [
              "'A'"
            ]
          },
          "execution_count": 11,
          "metadata": {},
          "output_type": "execute_result"
        }
      ],
      "source": [
        "d_proxy[1]"
      ]
    },
    {
      "cell_type": "code",
      "execution_count": 12,
      "metadata": {},
      "outputs": [
        {
          "ename": "TypeError",
          "evalue": "'mappingproxy' object does not support item assignment",
          "output_type": "error",
          "traceback": [
            "\u001b[31m---------------------------------------------------------------------------\u001b[39m",
            "\u001b[31mTypeError\u001b[39m                                 Traceback (most recent call last)",
            "\u001b[36mCell\u001b[39m\u001b[36m \u001b[39m\u001b[32mIn[12]\u001b[39m\u001b[32m, line 1\u001b[39m\n\u001b[32m----> \u001b[39m\u001b[32m1\u001b[39m \u001b[43md_proxy\u001b[49m\u001b[43m[\u001b[49m\u001b[32;43m2\u001b[39;49m\u001b[43m]\u001b[49m = \u001b[33m'\u001b[39m\u001b[33mx\u001b[39m\u001b[33m'\u001b[39m\n",
            "\u001b[31mTypeError\u001b[39m: 'mappingproxy' object does not support item assignment"
          ]
        }
      ],
      "source": [
        "d_proxy[2] = 'x'"
      ]
    },
    {
      "cell_type": "code",
      "execution_count": 13,
      "metadata": {},
      "outputs": [
        {
          "data": {
            "text/plain": [
              "mappingproxy({1: 'A', 2: 'B'})"
            ]
          },
          "execution_count": 13,
          "metadata": {},
          "output_type": "execute_result"
        }
      ],
      "source": [
        "d[2] = 'B'\n",
        "d_proxy"
      ]
    },
    {
      "cell_type": "code",
      "execution_count": 14,
      "metadata": {},
      "outputs": [
        {
          "data": {
            "text/plain": [
              "{'eggs', 'spam'}"
            ]
          },
          "execution_count": 14,
          "metadata": {},
          "output_type": "execute_result"
        }
      ],
      "source": [
        "l = [\"spam\",\"spam\",\"eggs\",\"spam\"]\n",
        "set(l)"
      ]
    },
    {
      "cell_type": "code",
      "execution_count": 15,
      "metadata": {},
      "outputs": [
        {
          "data": {
            "text/plain": [
              "['spam', 'eggs']"
            ]
          },
          "execution_count": 15,
          "metadata": {},
          "output_type": "execute_result"
        }
      ],
      "source": [
        "list(set(l))"
      ]
    },
    {
      "cell_type": "code",
      "execution_count": 16,
      "metadata": {},
      "outputs": [
        {
          "data": {
            "text/plain": [
              "2"
            ]
          },
          "execution_count": 16,
          "metadata": {},
          "output_type": "execute_result"
        }
      ],
      "source": [
        "l = set([\"spam\",\"spam\",\"eggs\",\"spam\",\"eggs\",\"meats\",\"onions\",\"onions\"])\n",
        "m = set([\"eggs\",\"onions\"])\n",
        "\n",
        "found = len(l&m)\n",
        "found"
      ]
    },
    {
      "cell_type": "code",
      "execution_count": 18,
      "metadata": {},
      "outputs": [
        {
          "data": {
            "text/plain": [
              "2"
            ]
          },
          "execution_count": 18,
          "metadata": {},
          "output_type": "execute_result"
        }
      ],
      "source": [
        "found = 0\n",
        "for n in m:\n",
        "    if n in l:\n",
        "        found+= 1\n",
        "\n",
        "found"
      ]
    },
    {
      "cell_type": "code",
      "execution_count": 19,
      "metadata": {},
      "outputs": [
        {
          "data": {
            "text/plain": [
              "2"
            ]
          },
          "execution_count": 19,
          "metadata": {},
          "output_type": "execute_result"
        }
      ],
      "source": [
        "found = len(l.intersection(m))\n",
        "found"
      ]
    },
    {
      "cell_type": "code",
      "execution_count": 20,
      "metadata": {},
      "outputs": [
        {
          "name": "stdout",
          "output_type": "stream",
          "text": [
            "<class 'set'>\n",
            "{1}\n",
            "set()\n"
          ]
        }
      ],
      "source": [
        "s = {1}\n",
        "print(type(s))\n",
        "print(s)\n",
        "\n",
        "s.pop()\n",
        "\n",
        "print(s)"
      ]
    },
    {
      "cell_type": "code",
      "execution_count": 21,
      "metadata": {},
      "outputs": [
        {
          "data": {
            "text/plain": [
              "{'#',\n",
              " '$',\n",
              " '%',\n",
              " '+',\n",
              " '<',\n",
              " '=',\n",
              " '>',\n",
              " '¢',\n",
              " '£',\n",
              " '¤',\n",
              " '¥',\n",
              " '§',\n",
              " '©',\n",
              " '¬',\n",
              " '®',\n",
              " '°',\n",
              " '±',\n",
              " 'µ',\n",
              " '¶',\n",
              " '×',\n",
              " '÷'}"
            ]
          },
          "execution_count": 21,
          "metadata": {},
          "output_type": "execute_result"
        }
      ],
      "source": [
        "from unicodedata import name\n",
        "\n",
        "{chr(i) for i in range(32,256) if 'SIGN' in name(chr(i),'')}\n"
      ]
    },
    {
      "cell_type": "code",
      "execution_count": 22,
      "metadata": {},
      "outputs": [
        {
          "name": "stdout",
          "output_type": "stream",
          "text": [
            "d1: dict_keys([82, 91, 1, 92, 7])\n",
            "d2: dict_keys([1, 7, 82, 91, 92])\n",
            "d3: dict_keys([91, 82, 92, 7, 1])\n"
          ]
        }
      ],
      "source": [
        "DIAL_CODES = [\n",
        "    (82,'Korea'),\n",
        "    (91, 'India'),\n",
        "    (1,'United States'),\n",
        "    (92, 'Pakistan'),\n",
        "    (7, 'Russia')\n",
        "\n",
        "]\n",
        "\n",
        "d1 = dict(DIAL_CODES)\n",
        "print(f'd1: {d1.keys()}')\n",
        "\n",
        "d2 = dict(sorted(DIAL_CODES))\n",
        "print(f'd2: {d2.keys()}')\n",
        "\n",
        "d3 = dict(sorted(DIAL_CODES, key= lambda x:x[1]))\n",
        "print(f'd3: {d3.keys()}')\n",
        "\n",
        "assert d1 == d2 and d2 == d3"
      ]
    }
  ],
  "metadata": {
    "colab": {
      "provenance": []
    },
    "kernelspec": {
      "display_name": ".venv",
      "language": "python",
      "name": "python3"
    },
    "language_info": {
      "codemirror_mode": {
        "name": "ipython",
        "version": 3
      },
      "file_extension": ".py",
      "mimetype": "text/x-python",
      "name": "python",
      "nbconvert_exporter": "python",
      "pygments_lexer": "ipython3",
      "version": "3.13.6"
    }
  },
  "nbformat": 4,
  "nbformat_minor": 0
}
