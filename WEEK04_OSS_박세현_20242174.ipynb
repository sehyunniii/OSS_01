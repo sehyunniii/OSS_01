{
  "cells": [
    {
      "cell_type": "code",
      "execution_count": null,
      "metadata": {
        "id": "_EqQevyh7cy-"
      },
      "outputs": [],
      "source": [
        "# 본인의 이름, 학번을 작성하여 실행하세요.\n",
        "print(\"박세현\")\n",
        "print(\"20242174\")"
      ]
    },
    {
      "cell_type": "markdown",
      "metadata": {
        "id": "m1FrI_-670e1"
      },
      "source": [
        "## 이후 강의 PDF 예제 내용을 작성하여 실행하세요."
      ]
    },
    {
      "cell_type": "code",
      "execution_count": null,
      "metadata": {
        "id": "DK8jS1KQ7z37",
        "outputId": "ae105134-4d85-4ea6-eb38-48d5c69190f9"
      },
      "outputs": [
        {
          "name": "stdout",
          "output_type": "stream",
          "text": [
            "[36, 42, 33, 64]\n"
          ]
        }
      ],
      "source": [
        "#예제 1.\n",
        "symbols = \"$*!@\"\n",
        "codes = []\n",
        "\n",
        "for symbol in symbols:\n",
        "    codes.append(ord(symbol))\n",
        "\n",
        "print(codes)"
      ]
    },
    {
      "cell_type": "code",
      "execution_count": null,
      "metadata": {
        "id": "5xm2J5VITLPS",
        "outputId": "9134f852-a893-41db-ae4d-34ef33919f1b"
      },
      "outputs": [
        {
          "name": "stdout",
          "output_type": "stream",
          "text": [
            "[36, 42, 33, 64]\n"
          ]
        }
      ],
      "source": [
        "#예제 2\n",
        "symbols = \"$*!@\"\n",
        "\n",
        "codes = [ord(symbol) for symbol in symbols]\n",
        "\n",
        "print(codes)"
      ]
    },
    {
      "cell_type": "code",
      "execution_count": null,
      "metadata": {
        "id": "U0ADqtQxTLPT",
        "outputId": "1dad2056-d67a-4b66-fe47-6309c92a585b"
      },
      "outputs": [
        {
          "name": "stdout",
          "output_type": "stream",
          "text": [
            "\"!~$$*&!@\n",
            "[34, 33, 126, 36, 36, 42, 38, 33, 64]\n"
          ]
        }
      ],
      "source": [
        "#예제3\n",
        "\n",
        "x = '\"!~$$*&!@'\n",
        "\n",
        "dummy = [ord(x) for x in x]\n",
        "\n",
        "print(x)\n",
        "print(dummy)"
      ]
    },
    {
      "cell_type": "code",
      "execution_count": null,
      "metadata": {
        "id": "VTT0Tpo9TLPT",
        "outputId": "46121d1c-fb77-49db-aec2-6d39759daa12"
      },
      "outputs": [
        {
          "name": "stdout",
          "output_type": "stream",
          "text": [
            "[34, 33, 126, 36, 36, 42, 38, 33, 64]\n"
          ]
        }
      ],
      "source": [
        "#예제 4\n",
        "symbols = '\"!~$$*&!@'\n",
        "beyond_ascii = [ord(s) for s in symbols if ord(s) > 32]\n",
        "print(beyond_ascii)\n"
      ]
    },
    {
      "cell_type": "code",
      "execution_count": null,
      "metadata": {
        "id": "IgH5EKm2TLPT",
        "outputId": "a5722e98-64e2-4a2d-ac82-67e12789fe1c"
      },
      "outputs": [
        {
          "name": "stdout",
          "output_type": "stream",
          "text": [
            "[126] \n",
            "\n",
            "Map function:\n",
            ">>> <map object at 0x10ca6fca0>\n",
            "List after map:\n",
            ">>> [34, 33, 126, 36, 36, 42, 38, 64]\n"
          ]
        }
      ],
      "source": [
        "#예제 5\n",
        "\n",
        "symbols = '\"!~$$*&@'\n",
        "\n",
        "beyond_ascii = list(filter(lambda c: c>64, map(ord,symbols)))\n",
        "\n",
        "print(beyond_ascii,'\\n')\n",
        "\n",
        "print(f\"Map function:\\n>>> {map(ord,symbols)}\")\n",
        "print(f\"List after map:\\n>>> {list(map(ord,symbols))}\")"
      ]
    },
    {
      "cell_type": "code",
      "execution_count": null,
      "metadata": {
        "id": "1y-rtlJcTLPT",
        "outputId": "7b7a90de-4711-4243-f7a9-47f9c9dec525"
      },
      "outputs": [
        {
          "name": "stdout",
          "output_type": "stream",
          "text": [
            "[('black', 'S'), ('black', 'M'), ('black', 'L'), ('white', 'S'), ('white', 'M'), ('white', 'L')]\n",
            "('black', 'S')\n",
            "('black', 'M')\n",
            "('black', 'L')\n",
            "('white', 'S')\n",
            "('white', 'M')\n",
            "('white', 'L')\n"
          ]
        }
      ],
      "source": [
        "#예제 6\n",
        "\n",
        "colors = ['black','white']\n",
        "sizes = ['S','M','L']\n",
        "tshirts = [(color,size)for color in colors for size in sizes]\n",
        "\n",
        "print(tshirts)\n",
        "\n",
        "for color in colors:\n",
        "    for size in sizes:\n",
        "        print((color,size))"
      ]
    },
    {
      "cell_type": "code",
      "execution_count": null,
      "metadata": {
        "id": "Uc0eiRcRTLPT",
        "outputId": "62d0998c-64ae-48ad-c270-1128b2ef4269"
      },
      "outputs": [
        {
          "name": "stdout",
          "output_type": "stream",
          "text": [
            "(33, 35, 94, 38, 38, 35)\n"
          ]
        }
      ],
      "source": [
        "#예제 7\n",
        "\n",
        "symbols = \"!#^&&#\"\n",
        "ord_s = tuple(ord(s) for s in symbols if ord(s))\n",
        "\n",
        "print(ord_s)"
      ]
    },
    {
      "cell_type": "code",
      "execution_count": null,
      "metadata": {
        "id": "yLS-MH3nTLPU",
        "outputId": "a6c042b8-5dd1-4e60-9f53-f48dcf6dad7a"
      },
      "outputs": [
        {
          "name": "stdout",
          "output_type": "stream",
          "text": [
            "black S\n",
            "white S\n",
            "black M\n",
            "white M\n",
            "black L\n",
            "white L\n"
          ]
        }
      ],
      "source": [
        "#예제 8\n",
        "\n",
        "colors = ['black','white']\n",
        "sizes = ['S','M','L']\n",
        "\n",
        "for tshirt in ('{} {}'.format(c, s)for s in sizes for c in colors):\n",
        "    print(tshirt)\n",
        "\n"
      ]
    },
    {
      "cell_type": "code",
      "execution_count": null,
      "metadata": {
        "id": "PtdvDY85TLPU",
        "outputId": "d2a1557a-0b3e-453f-e79c-d57be2cadd7e"
      },
      "outputs": [
        {
          "name": "stdout",
          "output_type": "stream",
          "text": [
            "BRA/CE342567\n",
            "BRA/CE342567\n",
            "BRA/CE342567\n",
            "ESP/XDA205856\n",
            "ESP/XDA205856\n",
            "ESP/XDA205856\n",
            "USA/31195855\n",
            "USA/31195855\n",
            "USA/31195855\n"
          ]
        }
      ],
      "source": [
        "lax_coordinates = (33.9425,-118.408056)\n",
        "city, year, pop, chg, area = ('Tokyo',2003,32450,0.66,8014)\n",
        "traveler_ids = [('USA','31195855'),('BRA','CE342567'),('ESP','XDA205856')]\n",
        "\n",
        "for passport in sorted(traveler_ids):\n",
        "    print('%s/%s' % passport)\n",
        "    print('{}/{}'.format(passport[0],passport[1]))\n",
        "    print(f'{passport[0]}/{passport[1]}')\n"
      ]
    },
    {
      "cell_type": "code",
      "execution_count": null,
      "metadata": {
        "id": "3z373LvgTLPU",
        "outputId": "0930c031-53d2-4b45-cc99-afd82345be49"
      },
      "outputs": [
        {
          "name": "stdout",
          "output_type": "stream",
          "text": [
            "USA\n",
            "BRA\n",
            "ESP\n"
          ]
        }
      ],
      "source": [
        "#예제 10\n",
        "for country, _ in traveler_ids:\n",
        "    print(country)"
      ]
    },
    {
      "cell_type": "code",
      "execution_count": null,
      "metadata": {
        "id": "40gNFkUTTLPU",
        "outputId": "3329618f-e302-4a9a-9c31-7c6f25118a04"
      },
      "outputs": [
        {
          "name": "stdout",
          "output_type": "stream",
          "text": [
            "33.9425\n",
            "-118.408056\n"
          ]
        }
      ],
      "source": [
        "#예제 11\n",
        "lax_coordinates = (33.9425,-118.408056)\n",
        "latitdue, longtitude = lax_coordinates\n",
        "\n",
        "print(latitdue)\n",
        "print(longtitude)"
      ]
    },
    {
      "cell_type": "code",
      "execution_count": null,
      "metadata": {
        "id": "rT7o3vHUTLPU",
        "outputId": "b63f89c2-1baa-4919-ec5d-d565454f2a67"
      },
      "outputs": [
        {
          "name": "stdout",
          "output_type": "stream",
          "text": [
            "20 10\n"
          ]
        }
      ],
      "source": [
        "#예제 12\n",
        "a = 10; b =20\n",
        "\n",
        "b, a = a, b\n",
        "print(a, b)"
      ]
    },
    {
      "cell_type": "code",
      "execution_count": null,
      "metadata": {
        "id": "LFGkJR4ITLPU",
        "outputId": "189959a8-dc10-44b7-a89e-48f0e0ca2455"
      },
      "outputs": [
        {
          "data": {
            "text/plain": [
              "(2, 4)"
            ]
          },
          "execution_count": 24,
          "metadata": {},
          "output_type": "execute_result"
        }
      ],
      "source": [
        "\n",
        "#예제 13\n",
        "divmod(20,8)\n"
      ]
    },
    {
      "cell_type": "code",
      "execution_count": null,
      "metadata": {
        "id": "g0piwxRkTLPV",
        "outputId": "cf78b7cc-2a75-4c97-a078-f68d981b3559"
      },
      "outputs": [
        {
          "data": {
            "text/plain": [
              "(2, 4)"
            ]
          },
          "execution_count": 25,
          "metadata": {},
          "output_type": "execute_result"
        }
      ],
      "source": [
        "#예제 13_2\n",
        "\n",
        "\n",
        "t = (20,8)\n",
        "divmod(*t)"
      ]
    },
    {
      "cell_type": "code",
      "execution_count": null,
      "metadata": {
        "id": "jhDuOx5nTLPV",
        "outputId": "08d01ba0-e31a-49ee-ff3b-86a90caf258e"
      },
      "outputs": [
        {
          "data": {
            "text/plain": [
              "(2, 4)"
            ]
          },
          "execution_count": 26,
          "metadata": {},
          "output_type": "execute_result"
        }
      ],
      "source": [
        "#예제 13_3\n",
        "\n",
        "\n",
        "quotient, remainder = divmod(*t)\n",
        "quotient, remainder\n"
      ]
    },
    {
      "cell_type": "code",
      "execution_count": null,
      "metadata": {
        "id": "FX4va4Z2TLPV",
        "outputId": "4d78aafc-b8af-4d4d-acec-dfd600a861b5"
      },
      "outputs": [
        {
          "data": {
            "text/plain": [
              "'idras.pub'"
            ]
          },
          "execution_count": 21,
          "metadata": {},
          "output_type": "execute_result"
        }
      ],
      "source": [
        "#예제 14\n",
        "\n",
        "import os\n",
        "\n",
        "_, filename = os.path.split('/home/luciano/.ssh/idras.pub')\n",
        "filename"
      ]
    },
    {
      "cell_type": "code",
      "execution_count": null,
      "metadata": {
        "id": "K9D9ecVhTLPV",
        "outputId": "9b058ee0-cd6b-4b83-fd2e-f24e76aad096"
      },
      "outputs": [
        {
          "data": {
            "text/plain": [
              "(0, 1, [])"
            ]
          },
          "execution_count": 23,
          "metadata": {},
          "output_type": "execute_result"
        }
      ],
      "source": [
        "#예제 15\n",
        "\n",
        "a, b, *rest = range(5)\n",
        "a, b, rest\n",
        "\n",
        "\n",
        "\n"
      ]
    },
    {
      "cell_type": "code",
      "execution_count": null,
      "metadata": {
        "id": "5eI1dSJETLPV",
        "outputId": "269aa052-a29e-48cc-8cb8-4e24ebc84764"
      },
      "outputs": [
        {
          "data": {
            "text/plain": [
              "(0, 1, [2])"
            ]
          },
          "execution_count": 27,
          "metadata": {},
          "output_type": "execute_result"
        }
      ],
      "source": [
        "\n",
        "#예제 15_2\n",
        "\n",
        "a, b, *rest = range(3)\n",
        "a, b, rest"
      ]
    },
    {
      "cell_type": "code",
      "execution_count": null,
      "metadata": {
        "id": "_DdkSlWeTLPV",
        "outputId": "85a0d5ce-4723-40b4-8790-67c51f114ad8"
      },
      "outputs": [
        {
          "data": {
            "text/plain": [
              "(0, 1, [])"
            ]
          },
          "execution_count": 28,
          "metadata": {},
          "output_type": "execute_result"
        }
      ],
      "source": [
        "#예제 15_3\n",
        "\n",
        "a, b, *rest = range(2)\n",
        "a, b, rest"
      ]
    },
    {
      "cell_type": "code",
      "execution_count": null,
      "metadata": {
        "id": "_x7Q_v51TLPV",
        "outputId": "3b728fb3-2651-4045-c94f-6e14650d7aa0"
      },
      "outputs": [
        {
          "data": {
            "text/plain": [
              "(0, [1, 2], 3, 4)"
            ]
          },
          "execution_count": 29,
          "metadata": {},
          "output_type": "execute_result"
        }
      ],
      "source": [
        "#예제 16\n",
        "\n",
        "a, *body, c, d = range(5)\n",
        "a, body, c, d"
      ]
    },
    {
      "cell_type": "code",
      "execution_count": null,
      "metadata": {
        "id": "L3TGE2eyTLPV",
        "outputId": "258e2105-922d-4112-f057-34f4866c3d36"
      },
      "outputs": [
        {
          "data": {
            "text/plain": [
              "([0, 1], 2, 3, 4)"
            ]
          },
          "execution_count": 30,
          "metadata": {},
          "output_type": "execute_result"
        }
      ],
      "source": [
        "#예제 16_2\n",
        "\n",
        "*head, b, c, d = range(5)\n",
        "\n",
        "head, b, c, d"
      ]
    },
    {
      "cell_type": "code",
      "execution_count": null,
      "metadata": {
        "id": "VDx-67KBTLPV",
        "outputId": "565ce64b-93c9-4a72-f5ab-59f403386bd8"
      },
      "outputs": [
        {
          "name": "stdout",
          "output_type": "stream",
          "text": [
            "                |   lat.    |   long.  \n",
            "Mexico City     |   19.0000 |  -99.0000\n",
            "New York-Newark |   40.0000 |  -74.0000\n",
            "Sao Paulo       |  -23.0000 |  -46.0000\n"
          ]
        }
      ],
      "source": [
        "#예제 17\n",
        "\n",
        "metro_areas = [\n",
        "    (\"Tokyo\",\"Jp\",36.933,(35, 139)),\n",
        "    (\"Delhi\",\"IN\",21,(28, 77)),\n",
        "    (\"Mexico City\",\"MX\",20,(19, -99)),\n",
        "    (\"New York-Newark\",\"US\",20,(40, -74)),\n",
        "    (\"Sao Paulo\",\"BR\",19,(-23, -46))\n",
        "]\n",
        "\n",
        "\n",
        "print(\"{:15} | {:^9} | {:^9}\".format('','lat.','long.'))\n",
        "fmt = '{:15} | {:9.4f} | {:9.4f}'\n",
        "\n",
        "\n",
        "for name, cc, pop, (lat, longi) in metro_areas:\n",
        "    if longi <= 0:\n",
        "        print(fmt.format(name, lat, longi))\n"
      ]
    },
    {
      "cell_type": "code",
      "execution_count": null,
      "metadata": {
        "id": "OcCuoYTgTLPV",
        "outputId": "632d8c86-92d4-4ce6-ffd7-7a83c813a36c"
      },
      "outputs": [
        {
          "data": {
            "text/plain": [
              "City(name='Tokyo', country='JP', population=36.933, coordinates=(35.689, 139.691))"
            ]
          },
          "execution_count": 33,
          "metadata": {},
          "output_type": "execute_result"
        }
      ],
      "source": [
        "#예제 18\n",
        "\n",
        "from collections import namedtuple\n",
        "\n",
        "City = namedtuple('City','name country population coordinates')\n",
        "tokyo = City('Tokyo','JP',36.933,(35.689,139.691))\n",
        "tokyo"
      ]
    },
    {
      "cell_type": "code",
      "execution_count": null,
      "metadata": {
        "id": "CYrgEd_wTLPV",
        "outputId": "744e744f-7a68-4f53-bf68-3a101680c4c1"
      },
      "outputs": [
        {
          "data": {
            "text/plain": [
              "36.933"
            ]
          },
          "execution_count": 34,
          "metadata": {},
          "output_type": "execute_result"
        }
      ],
      "source": [
        "#예제 18_1\n",
        "tokyo.population"
      ]
    },
    {
      "cell_type": "code",
      "execution_count": null,
      "metadata": {
        "id": "9ZVdGHWwTLPW",
        "outputId": "df6eb627-bb68-490b-821d-b03106e402f3"
      },
      "outputs": [
        {
          "data": {
            "text/plain": [
              "(35.689, 139.691)"
            ]
          },
          "execution_count": 35,
          "metadata": {},
          "output_type": "execute_result"
        }
      ],
      "source": [
        "#예제 18_2\n",
        "tokyo.coordinates"
      ]
    },
    {
      "cell_type": "code",
      "execution_count": null,
      "metadata": {
        "id": "xJ4ML2FrTLPW",
        "outputId": "bec6ec0e-9c62-43e6-f808-40eab3b8262c"
      },
      "outputs": [
        {
          "data": {
            "text/plain": [
              "'JP'"
            ]
          },
          "execution_count": 36,
          "metadata": {},
          "output_type": "execute_result"
        }
      ],
      "source": [
        "#예제 18_3\n",
        "tokyo[1]"
      ]
    },
    {
      "cell_type": "code",
      "execution_count": null,
      "metadata": {
        "id": "lKZ14njQTLPW",
        "outputId": "0a0ece38-aee2-4b18-8101-7a7f1d4d50ba"
      },
      "outputs": [
        {
          "data": {
            "text/plain": [
              "('name', 'country', 'population', 'coordinates')"
            ]
          },
          "execution_count": 37,
          "metadata": {},
          "output_type": "execute_result"
        }
      ],
      "source": [
        "#예제 19\n",
        "\n",
        "City._fields"
      ]
    },
    {
      "cell_type": "code",
      "execution_count": null,
      "metadata": {
        "id": "tPLqLtRWTLPW",
        "outputId": "9e86ed5e-85dd-431b-a0a4-c824f67b00f5"
      },
      "outputs": [
        {
          "data": {
            "text/plain": [
              "{'name': 'Delhi NCR',\n",
              " 'country': 'IN',\n",
              " 'population': 21.935,\n",
              " 'coordinates': LatLong(lat=28.613, long=77.208)}"
            ]
          },
          "execution_count": 38,
          "metadata": {},
          "output_type": "execute_result"
        }
      ],
      "source": [
        "#예제 19_1\n",
        "\n",
        "LatLong = namedtuple('LatLong','lat long')\n",
        "delhi_data = ('Delhi NCR','IN',21.935,LatLong(28.613,77.208))\n",
        "\n",
        "delhi = City._make(delhi_data)\n",
        "delhi._asdict()"
      ]
    },
    {
      "cell_type": "code",
      "execution_count": null,
      "metadata": {
        "id": "uZsaeRnrTLPW",
        "outputId": "ba8b1112-da0e-475e-f37a-c445fb3a13d1"
      },
      "outputs": [
        {
          "name": "stdout",
          "output_type": "stream",
          "text": [
            "name: Delhi NCR\n",
            "country: IN\n",
            "population: 21.935\n",
            "coordinates: LatLong(lat=28.613, long=77.208)\n"
          ]
        }
      ],
      "source": [
        "#예제 19_2\n",
        "\n",
        "for key, value in delhi._asdict().items():\n",
        "    print(key + ':',value)"
      ]
    },
    {
      "cell_type": "code",
      "execution_count": null,
      "metadata": {
        "id": "nYdBc3yaTLPW",
        "outputId": "4a56209a-d066-4aa2-c503-b56c2a792422"
      },
      "outputs": [
        {
          "data": {
            "text/plain": [
              "[10, 20]"
            ]
          },
          "execution_count": 40,
          "metadata": {},
          "output_type": "execute_result"
        }
      ],
      "source": [
        "#예제 20\n",
        "\n",
        "l = [10, 20, 30, 40, 50, 60]\n",
        "l[:2]"
      ]
    },
    {
      "cell_type": "code",
      "execution_count": null,
      "metadata": {
        "id": "r_P6CWrWTLPW",
        "outputId": "ac5b0cd1-435a-4840-ada4-486c0346cc8c"
      },
      "outputs": [
        {
          "data": {
            "text/plain": [
              "[30, 40, 50, 60]"
            ]
          },
          "execution_count": 41,
          "metadata": {},
          "output_type": "execute_result"
        }
      ],
      "source": [
        "#예제 20_2\n",
        "l[2:]\n",
        "\n"
      ]
    },
    {
      "cell_type": "code",
      "execution_count": null,
      "metadata": {
        "id": "hpkXmrk9TLPW",
        "outputId": "21af31f6-ee79-4599-fcb1-698e91aa8897"
      },
      "outputs": [
        {
          "data": {
            "text/plain": [
              "[10, 20, 30]"
            ]
          },
          "execution_count": 42,
          "metadata": {},
          "output_type": "execute_result"
        }
      ],
      "source": [
        "#예제 20_3\n",
        "l[:3]"
      ]
    },
    {
      "cell_type": "code",
      "execution_count": null,
      "metadata": {
        "id": "CJjFDu2YTLPW",
        "outputId": "bf768bdb-1b06-4b13-a652-449016f58cd1"
      },
      "outputs": [
        {
          "data": {
            "text/plain": [
              "[40, 50, 60]"
            ]
          },
          "execution_count": 43,
          "metadata": {},
          "output_type": "execute_result"
        }
      ],
      "source": [
        "\n",
        "#예제 20_4\n",
        "l[3:]"
      ]
    },
    {
      "cell_type": "code",
      "execution_count": null,
      "metadata": {
        "id": "x7Add_hiTLPW",
        "outputId": "b76e2ad8-9af5-4244-cad6-c446c0e3384b"
      },
      "outputs": [
        {
          "name": "stdout",
          "output_type": "stream",
          "text": [
            " $17.50   Pimoroni          \n",
            " $4.95    6mm Tactile       \n",
            " \n"
          ]
        }
      ],
      "source": [
        "#예제 21\n",
        "\n",
        "invoice = \"\"\"\n",
        "0.....6...................25........33.......40........\n",
        "1909   Pimoroni           $17.50    3     $52.50\n",
        "1489   6mm Tactile        $4.95     2     $9.90\n",
        "\"\"\"\n",
        "\n",
        "\n",
        "SKU = slice(0,6)\n",
        "DESCRIPTION = slice(6,25)\n",
        "UNIT_PRICE = slice(25,33)\n",
        "QUANTITY = slice(33,40)\n",
        "ITEM_TOTAL = slice(40,None)\n",
        "\n",
        "\n",
        "line_items = invoice.split('\\n')[2:]\n",
        "\n",
        "for item in line_items:\n",
        "    print(item[UNIT_PRICE], item[DESCRIPTION])\n",
        "\n",
        "\n",
        "\n"
      ]
    },
    {
      "cell_type": "code",
      "execution_count": null,
      "metadata": {
        "id": "QkG-bDj7TLPX",
        "outputId": "08873c5b-851d-427f-fa17-9df929ace09f"
      },
      "outputs": [
        {
          "data": {
            "text/plain": [
              "[0, 1, 2, 3, 4, 5, 6, 7, 8, 9]"
            ]
          },
          "execution_count": 46,
          "metadata": {},
          "output_type": "execute_result"
        }
      ],
      "source": [
        "#에제 22\n",
        "l = list(range(10))\n",
        "l"
      ]
    },
    {
      "cell_type": "code",
      "execution_count": null,
      "metadata": {
        "id": "voDVtT4GTLPX",
        "outputId": "142079d7-fb6f-4367-a523-32a057b605f9"
      },
      "outputs": [
        {
          "data": {
            "text/plain": [
              "[0, 1, 20, 30, 5, 6, 7, 8, 9]"
            ]
          },
          "execution_count": 47,
          "metadata": {},
          "output_type": "execute_result"
        }
      ],
      "source": [
        "#에제 22_2\n",
        "\n",
        "l[2:5] = [20,30]\n",
        "l"
      ]
    },
    {
      "cell_type": "code",
      "execution_count": null,
      "metadata": {
        "id": "DhpGHrf4TLPX",
        "outputId": "925908de-7078-4124-884f-79ecd5c3f9a0"
      },
      "outputs": [
        {
          "data": {
            "text/plain": [
              "[0, 1, 20, 30, 5, 8, 9]"
            ]
          },
          "execution_count": 48,
          "metadata": {},
          "output_type": "execute_result"
        }
      ],
      "source": [
        "#에제 22_3\n",
        "\n",
        "del l[5:7]\n",
        "l"
      ]
    },
    {
      "cell_type": "code",
      "execution_count": null,
      "metadata": {
        "id": "xAsqlidGTLPm",
        "outputId": "19989486-a415-4d9b-f1e5-2b111cd0b4ce"
      },
      "outputs": [
        {
          "data": {
            "text/plain": [
              "[0, 1, 20, 11, 5, 22, 9]"
            ]
          },
          "execution_count": 49,
          "metadata": {},
          "output_type": "execute_result"
        }
      ],
      "source": [
        "#에제 22_4\n",
        "l[3::2] = [11,22]\n",
        "l"
      ]
    },
    {
      "cell_type": "code",
      "execution_count": null,
      "metadata": {
        "id": "3bV2inT9TLPm",
        "outputId": "6468ba02-341c-41d8-8120-e9598e6d5f86"
      },
      "outputs": [
        {
          "ename": "TypeError",
          "evalue": "must assign iterable to extended slice",
          "output_type": "error",
          "traceback": [
            "\u001b[31m---------------------------------------------------------------------------\u001b[39m",
            "\u001b[31mTypeError\u001b[39m                                 Traceback (most recent call last)",
            "\u001b[36mCell\u001b[39m\u001b[36m \u001b[39m\u001b[32mIn[50]\u001b[39m\u001b[32m, line 3\u001b[39m\n\u001b[32m      1\u001b[39m \u001b[38;5;66;03m#에제 23\u001b[39;00m\n\u001b[32m----> \u001b[39m\u001b[32m3\u001b[39m \u001b[43ml\u001b[49m\u001b[43m[\u001b[49m\u001b[32;43m2\u001b[39;49m\u001b[43m:\u001b[49m\u001b[32;43m5\u001b[39;49m\u001b[43m]\u001b[49m =\u001b[32m100\u001b[39m\n",
            "\u001b[31mTypeError\u001b[39m: must assign iterable to extended slice"
          ]
        }
      ],
      "source": [
        "#에제 23\n",
        "\n",
        "l[2:5] =100"
      ]
    },
    {
      "cell_type": "code",
      "execution_count": null,
      "metadata": {
        "id": "vzg5og-OTLPm",
        "outputId": "ee98a305-4a17-4faf-90d9-6b7856e37e4b"
      },
      "outputs": [
        {
          "data": {
            "text/plain": [
              "[0, 1, 100, 22, 9]"
            ]
          },
          "execution_count": 51,
          "metadata": {},
          "output_type": "execute_result"
        }
      ],
      "source": [
        "#에제 24\n",
        "l[2:5] = [100]\n",
        "l"
      ]
    },
    {
      "cell_type": "code",
      "execution_count": null,
      "metadata": {
        "id": "vjj7_MfGTLPm",
        "outputId": "91e06ae5-a7b7-492a-8c03-eaa71b80f977"
      },
      "outputs": [
        {
          "data": {
            "text/plain": [
              "[1, 2, 3, 1, 2, 3, 1, 2, 3, 1, 2, 3, 1, 2, 3]"
            ]
          },
          "execution_count": 53,
          "metadata": {},
          "output_type": "execute_result"
        }
      ],
      "source": [
        "#에제 25\n",
        "\n",
        "l = [1,2,3]\n",
        "l *5"
      ]
    },
    {
      "cell_type": "code",
      "execution_count": null,
      "metadata": {
        "id": "YDboHJL_TLPm",
        "outputId": "9f1346bf-2f57-483d-b53d-9b395436052b"
      },
      "outputs": [
        {
          "data": {
            "text/plain": [
              "[['_', '_', '_'], ['_', '_', '_'], ['_', '_', '_']]"
            ]
          },
          "execution_count": 54,
          "metadata": {},
          "output_type": "execute_result"
        }
      ],
      "source": [
        "#에제 26\n",
        "\n",
        "board = [['_']* 3 for i in range(3)]\n",
        "\n",
        "board"
      ]
    },
    {
      "cell_type": "code",
      "execution_count": null,
      "metadata": {
        "id": "U3RZTuLMTLPm",
        "outputId": "1c3aa11f-27fe-465b-a652-8323aaa539da"
      },
      "outputs": [
        {
          "data": {
            "text/plain": [
              "[['_', '_', '_'], ['_', '_', 'X'], ['_', '_', '_']]"
            ]
          },
          "execution_count": 55,
          "metadata": {},
          "output_type": "execute_result"
        }
      ],
      "source": [
        "#에제 26_2\n",
        "board[1][2] = 'X'\n",
        "board"
      ]
    },
    {
      "cell_type": "code",
      "execution_count": null,
      "metadata": {
        "id": "hY15SXLjTLPm",
        "outputId": "25855923-65c2-45fd-abd5-b009f514f9f3"
      },
      "outputs": [
        {
          "data": {
            "text/plain": [
              "[['_', '_', '_'], ['_', '_', '_'], ['_', '_', '_']]"
            ]
          },
          "execution_count": 56,
          "metadata": {},
          "output_type": "execute_result"
        }
      ],
      "source": [
        "#에제 27\n",
        "weird_board = [['_']*3]*3\n",
        "weird_board"
      ]
    },
    {
      "cell_type": "code",
      "execution_count": null,
      "metadata": {
        "id": "wrUz3MUITLPm",
        "outputId": "3fbcd660-b546-4a39-88e7-5333dd65b89c"
      },
      "outputs": [
        {
          "data": {
            "text/plain": [
              "[['_', '_', '0'], ['_', '_', '0'], ['_', '_', '0']]"
            ]
          },
          "execution_count": 57,
          "metadata": {},
          "output_type": "execute_result"
        }
      ],
      "source": [
        "#에제 27_2\n",
        "weird_board[1][2] = '0'\n",
        "weird_board"
      ]
    },
    {
      "cell_type": "code",
      "execution_count": null,
      "metadata": {
        "id": "ZUd0lu50TLPm",
        "outputId": "69f1299a-8e04-4d74-fec4-2de848229457"
      },
      "outputs": [
        {
          "data": {
            "text/plain": [
              "[['_', '_', 'X'], ['_', '_', 'X'], ['_', '_', 'X']]"
            ]
          },
          "execution_count": 58,
          "metadata": {},
          "output_type": "execute_result"
        }
      ],
      "source": [
        "#에제 28\n",
        "row = ['_']*3\n",
        "board = []\n",
        "for i in range(3):\n",
        "    board.append(row)\n",
        "\n",
        "board[1][2] = 'X'\n",
        "board"
      ]
    },
    {
      "cell_type": "code",
      "execution_count": null,
      "metadata": {
        "id": "WCQsscEETLPm",
        "outputId": "5f8be690-fba1-48eb-e225-38c47989ef54"
      },
      "outputs": [
        {
          "name": "stdout",
          "output_type": "stream",
          "text": [
            "[['_', '_', '_'], ['_', '_', '_'], ['_', '_', '_']]\n"
          ]
        },
        {
          "data": {
            "text/plain": [
              "[['_', '_', '_'], ['_', '_', '_'], ['X', '_', '_']]"
            ]
          },
          "execution_count": 59,
          "metadata": {},
          "output_type": "execute_result"
        }
      ],
      "source": [
        "#에제 29\n",
        "\n",
        "board = []\n",
        "for i in range(3):\n",
        "    row = ['_']*3\n",
        "    board.append(row)\n",
        "\n",
        "print(board)\n",
        "board[2][0] = 'X'\n",
        "board"
      ]
    },
    {
      "cell_type": "code",
      "execution_count": null,
      "metadata": {
        "id": "D-H2e6rFTLPn",
        "outputId": "34e32946-0790-4f9d-a1c7-9248da99d7a5"
      },
      "outputs": [
        {
          "data": {
            "text/plain": [
              "4507919104"
            ]
          },
          "execution_count": 62,
          "metadata": {},
          "output_type": "execute_result"
        }
      ],
      "source": [
        "#예제 30\n",
        "l = [1,2,3]\n",
        "id(l)\n"
      ]
    },
    {
      "cell_type": "code",
      "execution_count": null,
      "metadata": {
        "id": "62MeyoaVTLPn",
        "outputId": "1df8e99e-6bdd-43ef-e54e-b8c04d945520"
      },
      "outputs": [
        {
          "data": {
            "text/plain": [
              "[1, 2, 3, 1, 2, 3]"
            ]
          },
          "execution_count": 63,
          "metadata": {},
          "output_type": "execute_result"
        }
      ],
      "source": [
        "#에제 30_2\n",
        "\n",
        "l *= 2\n",
        "l"
      ]
    },
    {
      "cell_type": "code",
      "execution_count": null,
      "metadata": {
        "id": "K5XkrPQfTLPn",
        "outputId": "546de221-e335-4069-cd39-0f6aa23d8b73"
      },
      "outputs": [
        {
          "data": {
            "text/plain": [
              "4507919104"
            ]
          },
          "execution_count": 64,
          "metadata": {},
          "output_type": "execute_result"
        }
      ],
      "source": [
        "id(l)"
      ]
    },
    {
      "cell_type": "code",
      "execution_count": null,
      "metadata": {
        "id": "OaqXpZmKTLPn",
        "outputId": "54caf127-3f2d-4f67-dfa4-b99a8401405b"
      },
      "outputs": [
        {
          "data": {
            "text/plain": [
              "4507072512"
            ]
          },
          "execution_count": 65,
          "metadata": {},
          "output_type": "execute_result"
        }
      ],
      "source": [
        "#에제 31\n",
        "t = (1, 2, 3)\n",
        "id(t)"
      ]
    },
    {
      "cell_type": "code",
      "execution_count": null,
      "metadata": {
        "id": "I-IUephOTLPn",
        "outputId": "1ccb8e83-4653-46e5-b574-12a80fed2485"
      },
      "outputs": [
        {
          "data": {
            "text/plain": [
              "4583049344"
            ]
          },
          "execution_count": 66,
          "metadata": {},
          "output_type": "execute_result"
        }
      ],
      "source": [
        "#예제 30_2\n",
        "t *= 2\n",
        "id(t)"
      ]
    },
    {
      "cell_type": "code",
      "execution_count": null,
      "metadata": {
        "id": "FFTA8GvQTLPn",
        "outputId": "61ce8f4a-4bc6-4b7d-afce-a0144af5c064"
      },
      "outputs": [
        {
          "name": "stdout",
          "output_type": "stream",
          "text": [
            "(1, 2, [30, 40])\n"
          ]
        },
        {
          "ename": "TypeError",
          "evalue": "'tuple' object does not support item assignment",
          "output_type": "error",
          "traceback": [
            "\u001b[31m---------------------------------------------------------------------------\u001b[39m",
            "\u001b[31mTypeError\u001b[39m                                 Traceback (most recent call last)",
            "\u001b[36mCell\u001b[39m\u001b[36m \u001b[39m\u001b[32mIn[67]\u001b[39m\u001b[32m, line 7\u001b[39m\n\u001b[32m      3\u001b[39m t = (\u001b[32m1\u001b[39m,\u001b[32m2\u001b[39m,[\u001b[32m30\u001b[39m,\u001b[32m40\u001b[39m])\n\u001b[32m      5\u001b[39m \u001b[38;5;28mprint\u001b[39m(t)\n\u001b[32m----> \u001b[39m\u001b[32m7\u001b[39m \u001b[43mt\u001b[49m\u001b[43m[\u001b[49m\u001b[32;43m2\u001b[39;49m\u001b[43m]\u001b[49m += [\u001b[32m50\u001b[39m,\u001b[32m60\u001b[39m]\n\u001b[32m      9\u001b[39m \u001b[33;03m\"\"\"\u001b[39;00m\n\u001b[32m     10\u001b[39m \u001b[33;03ma. t는 (1,2, [30,40,50,60])이 된다.\u001b[39;00m\n\u001b[32m     11\u001b[39m \u001b[33;03mb. '튜플 객체는 항목 할당을 지원하지 않는다'는\u001b[39;00m\n\u001b[32m   (...)\u001b[39m\u001b[32m     16\u001b[39m \n\u001b[32m     17\u001b[39m \u001b[33;03m\"\"\"\u001b[39;00m\n",
            "\u001b[31mTypeError\u001b[39m: 'tuple' object does not support item assignment"
          ]
        }
      ],
      "source": [
        "#예제 32\n",
        "\n",
        "t = (1,2,[30,40])\n",
        "\n",
        "print(t)\n",
        "\n",
        "t[2] += [50,60]\n",
        "\n",
        "\"\"\"\n",
        "a. t는 (1,2, [30,40,50,60])이 된다.\n",
        "b. '튜플 객체는 항목 할당을 지원하지 않는다'는\n",
        "    메시지와 함께 TypeError가 발생한다.\n",
        "c. a와 b 둘 다 틀리다.\n",
        "d. a와 b 둘 다 맞다.\n",
        "\n",
        "\n",
        "\"\"\"\n",
        "\n",
        "\n",
        "\n"
      ]
    },
    {
      "cell_type": "code",
      "execution_count": null,
      "metadata": {
        "id": "wdGIEVwCTLPn",
        "outputId": "e2871616-ac01-470c-b4a3-b7315229e3e9"
      },
      "outputs": [
        {
          "name": "stdout",
          "output_type": "stream",
          "text": [
            "(1, 2, [30, 40, 50, 60])\n"
          ]
        }
      ],
      "source": [
        "#예제 33\n",
        "print(t)"
      ]
    },
    {
      "cell_type": "code",
      "execution_count": null,
      "metadata": {
        "id": "SJ7HB_d0TLPn",
        "outputId": "83a2abec-da20-42a6-f809-236569a96268"
      },
      "outputs": [
        {
          "data": {
            "text/plain": [
              "['apple', 'banana', 'grape', 'raspberry']"
            ]
          },
          "execution_count": 69,
          "metadata": {},
          "output_type": "execute_result"
        }
      ],
      "source": [
        "#예제 34\n",
        "fruits = ['grape','raspberry','apple','banana']\n",
        "sorted(fruits)"
      ]
    },
    {
      "cell_type": "code",
      "execution_count": null,
      "metadata": {
        "id": "34dJp1KjTLPn"
      },
      "outputs": [],
      "source": [
        "#예제 34_2\n",
        "fruits"
      ]
    },
    {
      "cell_type": "code",
      "execution_count": null,
      "metadata": {
        "id": "HWAB-jjPTLPn",
        "outputId": "13080441-952a-474a-b755-26c07b6900a4"
      },
      "outputs": [
        {
          "data": {
            "text/plain": [
              "['raspberry', 'grape', 'banana', 'apple']"
            ]
          },
          "execution_count": 70,
          "metadata": {},
          "output_type": "execute_result"
        }
      ],
      "source": [
        "#예제 34_3\n",
        "sorted(fruits,reverse=True)"
      ]
    },
    {
      "cell_type": "code",
      "execution_count": null,
      "metadata": {
        "id": "Vgn-0sjWTLPn",
        "outputId": "47ef8c51-cd8a-424d-cba4-c692ce14b85e"
      },
      "outputs": [
        {
          "data": {
            "text/plain": [
              "['grape', 'apple', 'banana', 'raspberry']"
            ]
          },
          "execution_count": 71,
          "metadata": {},
          "output_type": "execute_result"
        }
      ],
      "source": [
        "#예제 34_4\n",
        "\n",
        "sorted(fruits, key = len)"
      ]
    },
    {
      "cell_type": "code",
      "execution_count": null,
      "metadata": {
        "id": "vJ739rGlTLPn",
        "outputId": "79ef31cb-f9bf-4d2c-c14e-cc27dd764071"
      },
      "outputs": [
        {
          "data": {
            "text/plain": [
              "['raspberry', 'banana', 'grape', 'apple']"
            ]
          },
          "execution_count": 72,
          "metadata": {},
          "output_type": "execute_result"
        }
      ],
      "source": [
        "#예제 35\n",
        "sorted(fruits,key=len,reverse=True)"
      ]
    },
    {
      "cell_type": "code",
      "execution_count": null,
      "metadata": {
        "id": "-JbYgUd2TLPn",
        "outputId": "3c3b2a67-de3f-41b3-9fc9-a85de6fdabe1"
      },
      "outputs": [
        {
          "data": {
            "text/plain": [
              "['grape', 'raspberry', 'apple', 'banana']"
            ]
          },
          "execution_count": 73,
          "metadata": {},
          "output_type": "execute_result"
        }
      ],
      "source": [
        "#예제 35_2\n",
        "fruits"
      ]
    },
    {
      "cell_type": "code",
      "execution_count": null,
      "metadata": {
        "id": "tAvv72AuTLPo",
        "outputId": "88a33f39-e2f2-4e32-84de-d54cd6d9d955"
      },
      "outputs": [
        {
          "data": {
            "text/plain": [
              "['apple', 'banana', 'grape', 'raspberry']"
            ]
          },
          "execution_count": 74,
          "metadata": {},
          "output_type": "execute_result"
        }
      ],
      "source": [
        "#예제 35_3\n",
        "fruits.sort()\n",
        "fruits"
      ]
    },
    {
      "cell_type": "code",
      "execution_count": null,
      "metadata": {
        "id": "U4oDuSg7TLPo",
        "outputId": "b571a00d-3c88-4502-f720-2251ec38d4c4"
      },
      "outputs": [
        {
          "data": {
            "text/plain": [
              "0.06464950433644512"
            ]
          },
          "execution_count": 75,
          "metadata": {},
          "output_type": "execute_result"
        }
      ],
      "source": [
        "#예제 36\n",
        "\n",
        "from array import array\n",
        "from random import random\n",
        "\n",
        "floats = array ('d',(random()for _ in range(10**7)))\n",
        "floats[-1]"
      ]
    },
    {
      "cell_type": "code",
      "execution_count": null,
      "metadata": {
        "id": "8HKiSEW1TLPo"
      },
      "outputs": [],
      "source": [
        "#예제 37\n",
        "with open('floats.bin','wb') as f:\n",
        "    floats.tofile(f)\n",
        "\n",
        "floats2 = array('d')\n",
        "\n",
        "with open ('floats.bin', 'rb') as f:\n",
        "    floats2.fromfile(f, 10**7)\n",
        "\n",
        "floats2[-1]"
      ]
    },
    {
      "cell_type": "code",
      "execution_count": null,
      "metadata": {
        "id": "Dl8qG34iTLPo",
        "outputId": "4d0c8a39-bdad-4c74-da3f-54d50d16daf6"
      },
      "outputs": [
        {
          "data": {
            "text/plain": [
              "True"
            ]
          },
          "execution_count": 76,
          "metadata": {},
          "output_type": "execute_result"
        }
      ],
      "source": [
        "#예제 37_2\n",
        "floats == floats"
      ]
    },
    {
      "cell_type": "code",
      "execution_count": null,
      "metadata": {
        "id": "UeKU8FDpTLPo",
        "outputId": "a5ad9fb7-8883-4583-f9f1-e2a2f7e1d687"
      },
      "outputs": [
        {
          "data": {
            "text/plain": [
              "5"
            ]
          },
          "execution_count": 77,
          "metadata": {},
          "output_type": "execute_result"
        }
      ],
      "source": [
        "#예제 38\n",
        "\n",
        "import array\n",
        "numbers = array.array('h',[-2,-1,0,1,2])\n",
        "memv = memoryview(numbers)\n",
        "len(memv)"
      ]
    },
    {
      "cell_type": "code",
      "execution_count": null,
      "metadata": {
        "id": "49Rk0znJTLPo",
        "outputId": "55e3defa-4212-491c-e3f3-51bfb62b324d"
      },
      "outputs": [
        {
          "data": {
            "text/plain": [
              "-2"
            ]
          },
          "execution_count": 78,
          "metadata": {},
          "output_type": "execute_result"
        }
      ],
      "source": [
        "#예제 38_2\n",
        "memv[0]"
      ]
    },
    {
      "cell_type": "code",
      "execution_count": null,
      "metadata": {
        "id": "s7BUKZW-TLPo",
        "outputId": "a26498c8-06eb-499e-a58a-483e5d8de14c"
      },
      "outputs": [
        {
          "data": {
            "text/plain": [
              "[254, 255, 255, 255, 0, 0, 1, 0, 2, 0]"
            ]
          },
          "execution_count": 79,
          "metadata": {},
          "output_type": "execute_result"
        }
      ],
      "source": [
        "#예제 38_3\n",
        "memv_oct = memv.cast('B')\n",
        "memv_oct.tolist()"
      ]
    },
    {
      "cell_type": "code",
      "execution_count": null,
      "metadata": {
        "id": "4ryNBhtVTLPo",
        "outputId": "65e9ab37-e283-40f4-999c-79e1c68c58dd"
      },
      "outputs": [
        {
          "data": {
            "text/plain": [
              "array('h', [-2, -1, 1024, 1, 2])"
            ]
          },
          "execution_count": 80,
          "metadata": {},
          "output_type": "execute_result"
        }
      ],
      "source": [
        "#예제 38_4\n",
        "memv_oct[5] = 4\n",
        "numbers"
      ]
    },
    {
      "cell_type": "code",
      "execution_count": null,
      "metadata": {
        "id": "n1vc-MgUTLPo",
        "outputId": "4225902e-ec17-4cc2-c4e5-accab090d6a7"
      },
      "outputs": [
        {
          "name": "stdout",
          "output_type": "stream",
          "text": [
            "104\n",
            "bytearray(b'Hello world')\n"
          ]
        }
      ],
      "source": [
        "#예제 38-1\n",
        "data = bytearray(b'hello world')\n",
        "mv = memoryview(data)\n",
        "\n",
        "print(mv[0])\n",
        "mv[0] = 72\n",
        "\n",
        "print(data)"
      ]
    },
    {
      "cell_type": "code",
      "execution_count": 2,
      "metadata": {
        "id": "VjDFJFFhTLPo",
        "outputId": "11e55749-b8ad-4b76-c296-a07b9802f154",
        "colab": {
          "base_uri": "https://localhost:8080/"
        }
      },
      "outputs": [
        {
          "output_type": "execute_result",
          "data": {
            "text/plain": [
              "array([ 0,  1,  2,  3,  4,  5,  6,  7,  8,  9, 10, 11])"
            ]
          },
          "metadata": {},
          "execution_count": 2
        }
      ],
      "source": [
        "#예제 39\n",
        "import numpy\n",
        "\n",
        "a = numpy.arange(12)\n",
        "\n",
        "a"
      ]
    },
    {
      "cell_type": "code",
      "execution_count": 3,
      "metadata": {
        "id": "_OoSdv6VTLPo",
        "outputId": "fac49b99-5a2e-4866-fcab-b0db18f3bff0",
        "colab": {
          "base_uri": "https://localhost:8080/"
        }
      },
      "outputs": [
        {
          "output_type": "execute_result",
          "data": {
            "text/plain": [
              "(12,)"
            ]
          },
          "metadata": {},
          "execution_count": 3
        }
      ],
      "source": [
        "#예제 40\n",
        "a.shape\n",
        "(12,)\n",
        "\n"
      ]
    },
    {
      "cell_type": "code",
      "execution_count": 4,
      "metadata": {
        "id": "KeGsCm8BTLPo",
        "outputId": "7ce17ef3-6947-4a85-9421-aad870b3da91",
        "colab": {
          "base_uri": "https://localhost:8080/"
        }
      },
      "outputs": [
        {
          "output_type": "execute_result",
          "data": {
            "text/plain": [
              "array([[ 0,  1,  2,  3],\n",
              "       [ 4,  5,  6,  7],\n",
              "       [ 8,  9, 10, 11]])"
            ]
          },
          "metadata": {},
          "execution_count": 4
        }
      ],
      "source": [
        "#예제 41\n",
        "a.shape = 3,4\n",
        "a"
      ]
    },
    {
      "cell_type": "code",
      "execution_count": 5,
      "metadata": {
        "id": "THlIfCFwTLPo",
        "outputId": "4971f5df-f6f4-4375-b61b-add024f288a7",
        "colab": {
          "base_uri": "https://localhost:8080/"
        }
      },
      "outputs": [
        {
          "output_type": "execute_result",
          "data": {
            "text/plain": [
              "array([ 8,  9, 10, 11])"
            ]
          },
          "metadata": {},
          "execution_count": 5
        }
      ],
      "source": [
        "#예제 41\n",
        "\n",
        "a[2]\n"
      ]
    },
    {
      "cell_type": "code",
      "execution_count": 6,
      "metadata": {
        "id": "gnWDs1EHTLPo",
        "outputId": "f0e28111-4e1f-4794-ac12-ec9e51fa0651",
        "colab": {
          "base_uri": "https://localhost:8080/"
        }
      },
      "outputs": [
        {
          "output_type": "execute_result",
          "data": {
            "text/plain": [
              "np.int64(9)"
            ]
          },
          "metadata": {},
          "execution_count": 6
        }
      ],
      "source": [
        "#예제 41\n",
        "a[2, 1]"
      ]
    },
    {
      "cell_type": "code",
      "execution_count": 7,
      "metadata": {
        "id": "oMLIC09aTLPp",
        "outputId": "7e14d72f-0285-4573-8f43-5a7f590cc4a3",
        "colab": {
          "base_uri": "https://localhost:8080/"
        }
      },
      "outputs": [
        {
          "output_type": "execute_result",
          "data": {
            "text/plain": [
              "array([1, 5, 9])"
            ]
          },
          "metadata": {},
          "execution_count": 7
        }
      ],
      "source": [
        "#예제 41\n",
        "a[:, 1]"
      ]
    },
    {
      "cell_type": "code",
      "execution_count": 8,
      "metadata": {
        "id": "VduYHI6lTLPp",
        "outputId": "3e707e4c-133b-476d-c810-7a7fa50d1a2b",
        "colab": {
          "base_uri": "https://localhost:8080/"
        }
      },
      "outputs": [
        {
          "output_type": "execute_result",
          "data": {
            "text/plain": [
              "array([[ 0,  4,  8],\n",
              "       [ 1,  5,  9],\n",
              "       [ 2,  6, 10],\n",
              "       [ 3,  7, 11]])"
            ]
          },
          "metadata": {},
          "execution_count": 8
        }
      ],
      "source": [
        "#예제 42\n",
        "a.transpose()\n",
        "\n"
      ]
    }
  ],
  "metadata": {
    "colab": {
      "provenance": []
    },
    "kernelspec": {
      "display_name": ".venv",
      "language": "python",
      "name": "python3"
    },
    "language_info": {
      "codemirror_mode": {
        "name": "ipython",
        "version": 3
      },
      "file_extension": ".py",
      "mimetype": "text/x-python",
      "name": "python",
      "nbconvert_exporter": "python",
      "pygments_lexer": "ipython3",
      "version": "3.13.6"
    }
  },
  "nbformat": 4,
  "nbformat_minor": 0
}